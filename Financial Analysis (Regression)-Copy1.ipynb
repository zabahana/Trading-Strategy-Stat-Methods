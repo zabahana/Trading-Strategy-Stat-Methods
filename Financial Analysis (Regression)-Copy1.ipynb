{
 "cells": [
  {
   "cell_type": "markdown",
   "metadata": {},
   "source": [
    "# Financial Analysis Using Python\n",
    "\n",
    "1. Population and Sample\n",
    "2. Parameters and Statistics\n",
    "3. Variation of Sample\n",
    "4. Empirical Distribution of Mean\n",
    "5. Sampling from Arbritary Distribution\n",
    "6. Estimate the Average Stock Return with 90% Confidence Interval\n",
    "7. Hypothesis Testing\n",
    "8. Association between Two Random Variables\n",
    "9. Simple Linear Regression\n",
    "10. Least Sqaure Estimates\n",
    "11. Model Diagnostics\n",
    "-----\n",
    "Signal Based Trading Strategy\n",
    "12. Multiple Linear Regression Model\n",
    "13. Evaluating the Strategy built from Regression Model\n",
    "14. Evaluation of model - Practical Standard"
   ]
  },
  {
   "cell_type": "markdown",
   "metadata": {},
   "source": [
    "# Buy-and-Hold versus Signal Based Trading Strategy\n",
    "## 12. Multiple Linear Regression Model\n",
    "### Building trading model of SPY based on the historical data of different stock markets \n",
    "\n",
    "SPY (SPDR -- Standard & Poor's Depositary Receipts) is designed to track the S&P 500 stock market index. "
   ]
  },
  {
   "cell_type": "code",
   "execution_count": 1,
   "metadata": {},
   "outputs": [],
   "source": [
    "import pandas as pd\n",
    "import statsmodels.formula.api as smf\n",
    "import numpy as np\n",
    "import matplotlib.pyplot as plt\n",
    "%matplotlib inline"
   ]
  },
  {
   "cell_type": "code",
   "execution_count": 2,
   "metadata": {},
   "outputs": [],
   "source": [
    "import warnings\n",
    "warnings.filterwarnings(\"ignore\")"
   ]
  },
  {
   "cell_type": "markdown",
   "metadata": {},
   "source": [
    "### Import all stock market data into DataFrame"
   ]
  },
  {
   "cell_type": "code",
   "execution_count": 3,
   "metadata": {},
   "outputs": [],
   "source": [
    "aord = pd.DataFrame.from_csv('ALLOrdinary.csv')\n",
    "nikkei = pd.DataFrame.from_csv('Nikkei225.csv')\n",
    "hsi = pd.DataFrame.from_csv('HSI.csv')\n",
    "daxi = pd.DataFrame.from_csv('DAXI.csv')\n",
    "cac40 = pd.DataFrame.from_csv('CAC40.csv')\n",
    "sp500 = pd.DataFrame.from_csv('SP500.csv')\n",
    "dji = pd.DataFrame.from_csv('DJI.csv')\n",
    "nasdaq = pd.DataFrame.from_csv('nasdaq_composite.csv')\n",
    "spy = pd.DataFrame.from_csv('SPY.csv')"
   ]
  },
  {
   "cell_type": "code",
   "execution_count": 4,
   "metadata": {},
   "outputs": [
    {
     "data": {
      "text/html": [
       "<div>\n",
       "<style scoped>\n",
       "    .dataframe tbody tr th:only-of-type {\n",
       "        vertical-align: middle;\n",
       "    }\n",
       "\n",
       "    .dataframe tbody tr th {\n",
       "        vertical-align: top;\n",
       "    }\n",
       "\n",
       "    .dataframe thead th {\n",
       "        text-align: right;\n",
       "    }\n",
       "</style>\n",
       "<table border=\"1\" class=\"dataframe\">\n",
       "  <thead>\n",
       "    <tr style=\"text-align: right;\">\n",
       "      <th></th>\n",
       "      <th>Open</th>\n",
       "      <th>High</th>\n",
       "      <th>Low</th>\n",
       "      <th>Close</th>\n",
       "      <th>Adj Close</th>\n",
       "      <th>Volume</th>\n",
       "    </tr>\n",
       "    <tr>\n",
       "      <th>Date</th>\n",
       "      <th></th>\n",
       "      <th></th>\n",
       "      <th></th>\n",
       "      <th></th>\n",
       "      <th></th>\n",
       "      <th></th>\n",
       "    </tr>\n",
       "  </thead>\n",
       "  <tbody>\n",
       "    <tr>\n",
       "      <th>2008-01-02</th>\n",
       "      <td>2653.909912</td>\n",
       "      <td>2661.500000</td>\n",
       "      <td>2597.810059</td>\n",
       "      <td>2609.629883</td>\n",
       "      <td>2609.629883</td>\n",
       "      <td>2076690000</td>\n",
       "    </tr>\n",
       "    <tr>\n",
       "      <th>2008-01-03</th>\n",
       "      <td>2611.959961</td>\n",
       "      <td>2624.270020</td>\n",
       "      <td>2592.179932</td>\n",
       "      <td>2602.679932</td>\n",
       "      <td>2602.679932</td>\n",
       "      <td>1970200000</td>\n",
       "    </tr>\n",
       "    <tr>\n",
       "      <th>2008-01-04</th>\n",
       "      <td>2571.080078</td>\n",
       "      <td>2571.080078</td>\n",
       "      <td>2502.679932</td>\n",
       "      <td>2504.649902</td>\n",
       "      <td>2504.649902</td>\n",
       "      <td>2516310000</td>\n",
       "    </tr>\n",
       "    <tr>\n",
       "      <th>2008-01-07</th>\n",
       "      <td>2514.149902</td>\n",
       "      <td>2521.620117</td>\n",
       "      <td>2471.229980</td>\n",
       "      <td>2499.459961</td>\n",
       "      <td>2499.459961</td>\n",
       "      <td>2600100000</td>\n",
       "    </tr>\n",
       "    <tr>\n",
       "      <th>2008-01-08</th>\n",
       "      <td>2506.969971</td>\n",
       "      <td>2527.419922</td>\n",
       "      <td>2440.510010</td>\n",
       "      <td>2440.510010</td>\n",
       "      <td>2440.510010</td>\n",
       "      <td>2566480000</td>\n",
       "    </tr>\n",
       "  </tbody>\n",
       "</table>\n",
       "</div>"
      ],
      "text/plain": [
       "                   Open         High          Low        Close    Adj Close  \\\n",
       "Date                                                                          \n",
       "2008-01-02  2653.909912  2661.500000  2597.810059  2609.629883  2609.629883   \n",
       "2008-01-03  2611.959961  2624.270020  2592.179932  2602.679932  2602.679932   \n",
       "2008-01-04  2571.080078  2571.080078  2502.679932  2504.649902  2504.649902   \n",
       "2008-01-07  2514.149902  2521.620117  2471.229980  2499.459961  2499.459961   \n",
       "2008-01-08  2506.969971  2527.419922  2440.510010  2440.510010  2440.510010   \n",
       "\n",
       "                Volume  \n",
       "Date                    \n",
       "2008-01-02  2076690000  \n",
       "2008-01-03  1970200000  \n",
       "2008-01-04  2516310000  \n",
       "2008-01-07  2600100000  \n",
       "2008-01-08  2566480000  "
      ]
     },
     "execution_count": 4,
     "metadata": {},
     "output_type": "execute_result"
    }
   ],
   "source": [
    "nasdaq.head()"
   ]
  },
  {
   "cell_type": "markdown",
   "metadata": {},
   "source": [
    "### Step 1: Data Munging"
   ]
  },
  {
   "cell_type": "code",
   "execution_count": 5,
   "metadata": {},
   "outputs": [],
   "source": [
    "# Due to the timezone issues (location), we extract and calculate appropriate stock market data for analysis\n",
    "# Indicepanel is the DataFrame of our trading model\n",
    "\n",
    "indicepanel=pd.DataFrame(index=spy.index)\n",
    "\n",
    "indicepanel['spy']=spy['Open'].shift(-1)-spy['Open']\n",
    "indicepanel['spy_lag1']=indicepanel['spy'].shift(1)\n",
    "indicepanel['sp500']=sp500[\"Open\"]-sp500['Open'].shift(1)\n",
    "indicepanel['nasdaq']=nasdaq['Open']-nasdaq['Open'].shift(1)\n",
    "indicepanel['dji']=dji['Open']-dji['Open'].shift(1)\n",
    "\n",
    "indicepanel['cac40']=cac40['Open']-cac40['Open'].shift(1)\n",
    "indicepanel['daxi']=daxi['Open']-daxi['Open'].shift(1)\n",
    "\n",
    "indicepanel['aord']=aord['Close']-aord['Open']\n",
    "indicepanel['hsi']=hsi['Close']-hsi['Open']\n",
    "indicepanel['nikkei']=nikkei['Close']-nikkei['Open']\n",
    "indicepanel['Price']=spy['Open']"
   ]
  },
  {
   "cell_type": "code",
   "execution_count": 6,
   "metadata": {},
   "outputs": [
    {
     "data": {
      "text/html": [
       "<div>\n",
       "<style scoped>\n",
       "    .dataframe tbody tr th:only-of-type {\n",
       "        vertical-align: middle;\n",
       "    }\n",
       "\n",
       "    .dataframe tbody tr th {\n",
       "        vertical-align: top;\n",
       "    }\n",
       "\n",
       "    .dataframe thead th {\n",
       "        text-align: right;\n",
       "    }\n",
       "</style>\n",
       "<table border=\"1\" class=\"dataframe\">\n",
       "  <thead>\n",
       "    <tr style=\"text-align: right;\">\n",
       "      <th></th>\n",
       "      <th>spy</th>\n",
       "      <th>spy_lag1</th>\n",
       "      <th>sp500</th>\n",
       "      <th>nasdaq</th>\n",
       "      <th>dji</th>\n",
       "      <th>cac40</th>\n",
       "      <th>daxi</th>\n",
       "      <th>aord</th>\n",
       "      <th>hsi</th>\n",
       "      <th>nikkei</th>\n",
       "      <th>Price</th>\n",
       "    </tr>\n",
       "    <tr>\n",
       "      <th>Date</th>\n",
       "      <th></th>\n",
       "      <th></th>\n",
       "      <th></th>\n",
       "      <th></th>\n",
       "      <th></th>\n",
       "      <th></th>\n",
       "      <th></th>\n",
       "      <th></th>\n",
       "      <th></th>\n",
       "      <th></th>\n",
       "      <th></th>\n",
       "    </tr>\n",
       "  </thead>\n",
       "  <tbody>\n",
       "    <tr>\n",
       "      <th>2008-01-02</th>\n",
       "      <td>-1.619995</td>\n",
       "      <td>NaN</td>\n",
       "      <td>NaN</td>\n",
       "      <td>NaN</td>\n",
       "      <td>NaN</td>\n",
       "      <td>NaN</td>\n",
       "      <td>NaN</td>\n",
       "      <td>-50.100097</td>\n",
       "      <td>-71.679688</td>\n",
       "      <td>NaN</td>\n",
       "      <td>146.529999</td>\n",
       "    </tr>\n",
       "    <tr>\n",
       "      <th>2008-01-03</th>\n",
       "      <td>-1.570008</td>\n",
       "      <td>-1.619995</td>\n",
       "      <td>-20.419922</td>\n",
       "      <td>-41.949951</td>\n",
       "      <td>-217.70019</td>\n",
       "      <td>-71.779785</td>\n",
       "      <td>-104.450195</td>\n",
       "      <td>-2.300293</td>\n",
       "      <td>-162.750000</td>\n",
       "      <td>NaN</td>\n",
       "      <td>144.910004</td>\n",
       "    </tr>\n",
       "    <tr>\n",
       "      <th>2008-01-04</th>\n",
       "      <td>-1.529998</td>\n",
       "      <td>-1.570008</td>\n",
       "      <td>-3.540039</td>\n",
       "      <td>-40.879883</td>\n",
       "      <td>2.43945</td>\n",
       "      <td>5.489746</td>\n",
       "      <td>-27.990235</td>\n",
       "      <td>NaN</td>\n",
       "      <td>515.349609</td>\n",
       "      <td>-464.320313</td>\n",
       "      <td>143.339996</td>\n",
       "    </tr>\n",
       "    <tr>\n",
       "      <th>2008-01-07</th>\n",
       "      <td>0.270004</td>\n",
       "      <td>-1.529998</td>\n",
       "      <td>-29.940064</td>\n",
       "      <td>-56.930176</td>\n",
       "      <td>-245.40918</td>\n",
       "      <td>-111.689941</td>\n",
       "      <td>-102.709961</td>\n",
       "      <td>-27.500000</td>\n",
       "      <td>216.951171</td>\n",
       "      <td>-48.830078</td>\n",
       "      <td>141.809998</td>\n",
       "    </tr>\n",
       "    <tr>\n",
       "      <th>2008-01-08</th>\n",
       "      <td>-2.990006</td>\n",
       "      <td>0.270004</td>\n",
       "      <td>1.640015</td>\n",
       "      <td>-7.179931</td>\n",
       "      <td>19.75000</td>\n",
       "      <td>44.509766</td>\n",
       "      <td>33.680176</td>\n",
       "      <td>-33.899902</td>\n",
       "      <td>-354.060547</td>\n",
       "      <td>99.370117</td>\n",
       "      <td>142.080002</td>\n",
       "    </tr>\n",
       "  </tbody>\n",
       "</table>\n",
       "</div>"
      ],
      "text/plain": [
       "                 spy  spy_lag1      sp500     nasdaq        dji       cac40  \\\n",
       "Date                                                                          \n",
       "2008-01-02 -1.619995       NaN        NaN        NaN        NaN         NaN   \n",
       "2008-01-03 -1.570008 -1.619995 -20.419922 -41.949951 -217.70019  -71.779785   \n",
       "2008-01-04 -1.529998 -1.570008  -3.540039 -40.879883    2.43945    5.489746   \n",
       "2008-01-07  0.270004 -1.529998 -29.940064 -56.930176 -245.40918 -111.689941   \n",
       "2008-01-08 -2.990006  0.270004   1.640015  -7.179931   19.75000   44.509766   \n",
       "\n",
       "                  daxi       aord         hsi      nikkei       Price  \n",
       "Date                                                                   \n",
       "2008-01-02         NaN -50.100097  -71.679688         NaN  146.529999  \n",
       "2008-01-03 -104.450195  -2.300293 -162.750000         NaN  144.910004  \n",
       "2008-01-04  -27.990235        NaN  515.349609 -464.320313  143.339996  \n",
       "2008-01-07 -102.709961 -27.500000  216.951171  -48.830078  141.809998  \n",
       "2008-01-08   33.680176 -33.899902 -354.060547   99.370117  142.080002  "
      ]
     },
     "execution_count": 6,
     "metadata": {},
     "output_type": "execute_result"
    }
   ],
   "source": [
    "indicepanel.head()"
   ]
  },
  {
   "cell_type": "markdown",
   "metadata": {},
   "source": [
    "#### Impute NaN Values"
   ]
  },
  {
   "cell_type": "code",
   "execution_count": 7,
   "metadata": {},
   "outputs": [
    {
     "data": {
      "text/plain": [
       "spy           1\n",
       "spy_lag1      1\n",
       "sp500         1\n",
       "nasdaq        1\n",
       "dji           1\n",
       "cac40        30\n",
       "daxi         53\n",
       "aord        319\n",
       "hsi         121\n",
       "nikkei      145\n",
       "Price         0\n",
       "dtype: int64"
      ]
     },
     "execution_count": 7,
     "metadata": {},
     "output_type": "execute_result"
    }
   ],
   "source": [
    "# Lets check whether do we have NaN values in indicepanel\n",
    "indicepanel.isnull().sum()"
   ]
  },
  {
   "cell_type": "code",
   "execution_count": 8,
   "metadata": {},
   "outputs": [],
   "source": [
    "# We can use method 'fillna()' from dataframe to forward filling the Nan values\n",
    "# Then we can drop the reminding Nan values\n",
    "indicepanel = indicepanel.fillna(method='ffill')\n",
    "indicepanel = indicepanel.dropna()"
   ]
  },
  {
   "cell_type": "code",
   "execution_count": 9,
   "metadata": {},
   "outputs": [
    {
     "data": {
      "text/plain": [
       "spy         0\n",
       "spy_lag1    0\n",
       "sp500       0\n",
       "nasdaq      0\n",
       "dji         0\n",
       "cac40       0\n",
       "daxi        0\n",
       "aord        0\n",
       "hsi         0\n",
       "nikkei      0\n",
       "Price       0\n",
       "dtype: int64"
      ]
     },
     "execution_count": 9,
     "metadata": {},
     "output_type": "execute_result"
    }
   ],
   "source": [
    "# Lets check whether do we have Nan values in indicepanel now\n",
    "indicepanel.isnull().sum()"
   ]
  },
  {
   "cell_type": "code",
   "execution_count": 10,
   "metadata": {},
   "outputs": [
    {
     "name": "stdout",
     "output_type": "stream",
     "text": [
      "(2677, 11)\n"
     ]
    }
   ],
   "source": [
    "print(indicepanel.shape)"
   ]
  },
  {
   "cell_type": "markdown",
   "metadata": {},
   "source": [
    "### Step 2: Data Spliting"
   ]
  },
  {
   "cell_type": "code",
   "execution_count": 11,
   "metadata": {},
   "outputs": [
    {
     "name": "stdout",
     "output_type": "stream",
     "text": [
      "(1000, 11) (1000, 11)\n"
     ]
    }
   ],
   "source": [
    "#split the data into (1)train set and (2)test set\n",
    "\n",
    "Train = indicepanel.iloc[-2000:-1000, :]\n",
    "Test = indicepanel.iloc[-1000:, :]\n",
    "print(Train.shape, Test.shape)"
   ]
  },
  {
   "cell_type": "markdown",
   "metadata": {},
   "source": [
    "### Step 3: Explore the Train Dataset"
   ]
  },
  {
   "cell_type": "code",
   "execution_count": 12,
   "metadata": {
    "scrolled": true
   },
   "outputs": [
    {
     "data": {
      "text/html": [
       "<div>\n",
       "<style scoped>\n",
       "    .dataframe tbody tr th:only-of-type {\n",
       "        vertical-align: middle;\n",
       "    }\n",
       "\n",
       "    .dataframe tbody tr th {\n",
       "        vertical-align: top;\n",
       "    }\n",
       "\n",
       "    .dataframe thead th {\n",
       "        text-align: right;\n",
       "    }\n",
       "</style>\n",
       "<table border=\"1\" class=\"dataframe\">\n",
       "  <thead>\n",
       "    <tr style=\"text-align: right;\">\n",
       "      <th></th>\n",
       "      <th>spy</th>\n",
       "      <th>spy_lag1</th>\n",
       "      <th>sp500</th>\n",
       "      <th>nasdaq</th>\n",
       "      <th>dji</th>\n",
       "      <th>cac40</th>\n",
       "      <th>daxi</th>\n",
       "      <th>aord</th>\n",
       "      <th>hsi</th>\n",
       "      <th>nikkei</th>\n",
       "      <th>Price</th>\n",
       "    </tr>\n",
       "  </thead>\n",
       "  <tbody>\n",
       "    <tr>\n",
       "      <th>count</th>\n",
       "      <td>1000.000000</td>\n",
       "      <td>1000.000000</td>\n",
       "      <td>1000.000000</td>\n",
       "      <td>1000.000000</td>\n",
       "      <td>1000.000000</td>\n",
       "      <td>1000.000000</td>\n",
       "      <td>1000.000000</td>\n",
       "      <td>1000.000000</td>\n",
       "      <td>1000.000000</td>\n",
       "      <td>1000.000000</td>\n",
       "      <td>1000.000000</td>\n",
       "    </tr>\n",
       "    <tr>\n",
       "      <th>mean</th>\n",
       "      <td>0.085550</td>\n",
       "      <td>0.085280</td>\n",
       "      <td>0.857440</td>\n",
       "      <td>3.247670</td>\n",
       "      <td>8.689570</td>\n",
       "      <td>0.841760</td>\n",
       "      <td>2.143367</td>\n",
       "      <td>0.754303</td>\n",
       "      <td>-16.697033</td>\n",
       "      <td>-5.218715</td>\n",
       "      <td>227.029970</td>\n",
       "    </tr>\n",
       "    <tr>\n",
       "      <th>std</th>\n",
       "      <td>1.738165</td>\n",
       "      <td>1.738093</td>\n",
       "      <td>17.006346</td>\n",
       "      <td>56.816442</td>\n",
       "      <td>154.915940</td>\n",
       "      <td>50.436480</td>\n",
       "      <td>125.869037</td>\n",
       "      <td>43.003172</td>\n",
       "      <td>206.375273</td>\n",
       "      <td>169.664760</td>\n",
       "      <td>27.349764</td>\n",
       "    </tr>\n",
       "    <tr>\n",
       "      <th>min</th>\n",
       "      <td>-13.510010</td>\n",
       "      <td>-13.510010</td>\n",
       "      <td>-126.280030</td>\n",
       "      <td>-449.430176</td>\n",
       "      <td>-1252.699220</td>\n",
       "      <td>-290.100098</td>\n",
       "      <td>-884.849610</td>\n",
       "      <td>-204.399903</td>\n",
       "      <td>-1055.150390</td>\n",
       "      <td>-1381.850586</td>\n",
       "      <td>182.339996</td>\n",
       "    </tr>\n",
       "    <tr>\n",
       "      <th>25%</th>\n",
       "      <td>-0.682491</td>\n",
       "      <td>-0.682491</td>\n",
       "      <td>-6.777466</td>\n",
       "      <td>-21.072510</td>\n",
       "      <td>-57.920905</td>\n",
       "      <td>-25.594971</td>\n",
       "      <td>-62.197510</td>\n",
       "      <td>-24.049927</td>\n",
       "      <td>-118.809082</td>\n",
       "      <td>-78.603515</td>\n",
       "      <td>206.455006</td>\n",
       "    </tr>\n",
       "    <tr>\n",
       "      <th>50%</th>\n",
       "      <td>0.140007</td>\n",
       "      <td>0.140007</td>\n",
       "      <td>1.414978</td>\n",
       "      <td>6.565186</td>\n",
       "      <td>12.775390</td>\n",
       "      <td>4.205078</td>\n",
       "      <td>7.090332</td>\n",
       "      <td>2.399902</td>\n",
       "      <td>-6.099609</td>\n",
       "      <td>-2.950195</td>\n",
       "      <td>215.389999</td>\n",
       "    </tr>\n",
       "    <tr>\n",
       "      <th>75%</th>\n",
       "      <td>0.952496</td>\n",
       "      <td>0.952496</td>\n",
       "      <td>9.452453</td>\n",
       "      <td>32.614868</td>\n",
       "      <td>84.279782</td>\n",
       "      <td>29.464966</td>\n",
       "      <td>69.457763</td>\n",
       "      <td>27.299926</td>\n",
       "      <td>96.930664</td>\n",
       "      <td>80.102051</td>\n",
       "      <td>247.287499</td>\n",
       "    </tr>\n",
       "    <tr>\n",
       "      <th>max</th>\n",
       "      <td>8.799988</td>\n",
       "      <td>8.799988</td>\n",
       "      <td>76.169922</td>\n",
       "      <td>335.660157</td>\n",
       "      <td>807.699220</td>\n",
       "      <td>226.939942</td>\n",
       "      <td>528.150391</td>\n",
       "      <td>170.600097</td>\n",
       "      <td>957.289063</td>\n",
       "      <td>1012.378907</td>\n",
       "      <td>286.250000</td>\n",
       "    </tr>\n",
       "  </tbody>\n",
       "</table>\n",
       "</div>"
      ],
      "text/plain": [
       "               spy     spy_lag1        sp500       nasdaq          dji  \\\n",
       "count  1000.000000  1000.000000  1000.000000  1000.000000  1000.000000   \n",
       "mean      0.085550     0.085280     0.857440     3.247670     8.689570   \n",
       "std       1.738165     1.738093    17.006346    56.816442   154.915940   \n",
       "min     -13.510010   -13.510010  -126.280030  -449.430176 -1252.699220   \n",
       "25%      -0.682491    -0.682491    -6.777466   -21.072510   -57.920905   \n",
       "50%       0.140007     0.140007     1.414978     6.565186    12.775390   \n",
       "75%       0.952496     0.952496     9.452453    32.614868    84.279782   \n",
       "max       8.799988     8.799988    76.169922   335.660157   807.699220   \n",
       "\n",
       "             cac40         daxi         aord          hsi       nikkei  \\\n",
       "count  1000.000000  1000.000000  1000.000000  1000.000000  1000.000000   \n",
       "mean      0.841760     2.143367     0.754303   -16.697033    -5.218715   \n",
       "std      50.436480   125.869037    43.003172   206.375273   169.664760   \n",
       "min    -290.100098  -884.849610  -204.399903 -1055.150390 -1381.850586   \n",
       "25%     -25.594971   -62.197510   -24.049927  -118.809082   -78.603515   \n",
       "50%       4.205078     7.090332     2.399902    -6.099609    -2.950195   \n",
       "75%      29.464966    69.457763    27.299926    96.930664    80.102051   \n",
       "max     226.939942   528.150391   170.600097   957.289063  1012.378907   \n",
       "\n",
       "             Price  \n",
       "count  1000.000000  \n",
       "mean    227.029970  \n",
       "std      27.349764  \n",
       "min     182.339996  \n",
       "25%     206.455006  \n",
       "50%     215.389999  \n",
       "75%     247.287499  \n",
       "max     286.250000  "
      ]
     },
     "execution_count": 12,
     "metadata": {},
     "output_type": "execute_result"
    }
   ],
   "source": [
    "Test.describe()"
   ]
  },
  {
   "cell_type": "code",
   "execution_count": 13,
   "metadata": {},
   "outputs": [
    {
     "data": {
      "text/plain": [
       "<matplotlib.axes._subplots.AxesSubplot at 0x1a18ae3d68>"
      ]
     },
     "execution_count": 13,
     "metadata": {},
     "output_type": "execute_result"
    },
    {
     "data": {
      "image/png": "[encoded data removed]",
      "text/plain": [
       "<Figure size 792x648 with 2 Axes>"
      ]
     },
     "metadata": {},
     "output_type": "display_data"
    }
   ],
   "source": [
    "# Generate diagonal correlation matrix among all stock markets (and the price of SPY) to observe the association\n",
    "\n",
    "#from pandas.tools.plotting import scatter_matrix\n",
    "from string import ascii_letters\n",
    "import seaborn as sns\n",
    "\n",
    "sns.set(style=\"white\")\n",
    "\n",
    "\n",
    "corr = Train.corr()\n",
    "\n",
    "mask = np.zeros_like(corr, dtype=np.bool)\n",
    "mask[np.triu_indices_from(mask)] = True\n",
    "\n",
    "# Set up the matplotlib figure\n",
    "f, ax = plt.subplots(figsize=(11, 9))\n",
    "\n",
    "# Generate a custom diverging colormap\n",
    "cmap = sns.diverging_palette(220, 10, as_cmap=True)\n",
    "\n",
    "# Draw the heatmap with the mask and correct aspect ratio\n",
    "sns.heatmap(corr, mask=mask, cmap=cmap, vmax=.3, center=0,\n",
    "            square=True, linewidths=.5, cbar_kws={\"shrink\": .5})\n"
   ]
  },
  {
   "cell_type": "markdown",
   "metadata": {},
   "source": [
    "### Step 4: Check the Correlation of each Index between spy"
   ]
  },
  {
   "cell_type": "code",
   "execution_count": 14,
   "metadata": {},
   "outputs": [
    {
     "name": "stdout",
     "output_type": "stream",
     "text": [
      "spy         1.000000\n",
      "spy_lag1   -0.011623\n",
      "sp500      -0.018632\n",
      "nasdaq      0.012333\n",
      "dji        -0.037097\n",
      "cac40      -0.055304\n",
      "daxi       -0.069735\n",
      "aord        0.179638\n",
      "hsi         0.031400\n",
      "nikkei     -0.035048\n",
      "Name: spy, dtype: float64\n"
     ]
    }
   ],
   "source": [
    "# Find the indice with largest correlation\n",
    "corr_array = Train.iloc[:, :-1].corr()['spy']\n",
    "print(corr_array)"
   ]
  },
  {
   "cell_type": "code",
   "execution_count": 15,
   "metadata": {},
   "outputs": [
    {
     "data": {
      "text/html": [
       "<table class=\"simpletable\">\n",
       "<caption>OLS Regression Results</caption>\n",
       "<tr>\n",
       "  <th>Dep. Variable:</th>           <td>spy</td>       <th>  R-squared:         </th> <td>   0.067</td>\n",
       "</tr>\n",
       "<tr>\n",
       "  <th>Model:</th>                   <td>OLS</td>       <th>  Adj. R-squared:    </th> <td>   0.059</td>\n",
       "</tr>\n",
       "<tr>\n",
       "  <th>Method:</th>             <td>Least Squares</td>  <th>  F-statistic:       </th> <td>   7.962</td>\n",
       "</tr>\n",
       "<tr>\n",
       "  <th>Date:</th>             <td>Thu, 18 Apr 2019</td> <th>  Prob (F-statistic):</th> <td>1.97e-11</td>\n",
       "</tr>\n",
       "<tr>\n",
       "  <th>Time:</th>                 <td>20:10:45</td>     <th>  Log-Likelihood:    </th> <td> -1617.7</td>\n",
       "</tr>\n",
       "<tr>\n",
       "  <th>No. Observations:</th>      <td>  1000</td>      <th>  AIC:               </th> <td>   3255.</td>\n",
       "</tr>\n",
       "<tr>\n",
       "  <th>Df Residuals:</th>          <td>   990</td>      <th>  BIC:               </th> <td>   3305.</td>\n",
       "</tr>\n",
       "<tr>\n",
       "  <th>Df Model:</th>              <td>     9</td>      <th>                     </th>     <td> </td>   \n",
       "</tr>\n",
       "<tr>\n",
       "  <th>Covariance Type:</th>      <td>nonrobust</td>    <th>                     </th>     <td> </td>   \n",
       "</tr>\n",
       "</table>\n",
       "<table class=\"simpletable\">\n",
       "<tr>\n",
       "      <td></td>         <th>coef</th>     <th>std err</th>      <th>t</th>      <th>P>|t|</th>  <th>[0.025</th>    <th>0.975]</th>  \n",
       "</tr>\n",
       "<tr>\n",
       "  <th>Intercept</th> <td>    0.0836</td> <td>    0.039</td> <td>    2.138</td> <td> 0.033</td> <td>    0.007</td> <td>    0.160</td>\n",
       "</tr>\n",
       "<tr>\n",
       "  <th>spy_lag1</th>  <td>   -0.1567</td> <td>    0.091</td> <td>   -1.730</td> <td> 0.084</td> <td>   -0.335</td> <td>    0.021</td>\n",
       "</tr>\n",
       "<tr>\n",
       "  <th>sp500</th>     <td>    0.0221</td> <td>    0.014</td> <td>    1.621</td> <td> 0.105</td> <td>   -0.005</td> <td>    0.049</td>\n",
       "</tr>\n",
       "<tr>\n",
       "  <th>nasdaq</th>    <td>    0.0040</td> <td>    0.004</td> <td>    1.066</td> <td> 0.287</td> <td>   -0.003</td> <td>    0.011</td>\n",
       "</tr>\n",
       "<tr>\n",
       "  <th>dji</th>       <td>   -0.0018</td> <td>    0.001</td> <td>   -1.248</td> <td> 0.212</td> <td>   -0.005</td> <td>    0.001</td>\n",
       "</tr>\n",
       "<tr>\n",
       "  <th>cac40</th>     <td>   -0.0003</td> <td>    0.002</td> <td>   -0.153</td> <td> 0.879</td> <td>   -0.004</td> <td>    0.004</td>\n",
       "</tr>\n",
       "<tr>\n",
       "  <th>aord</th>      <td>    0.0093</td> <td>    0.001</td> <td>    7.492</td> <td> 0.000</td> <td>    0.007</td> <td>    0.012</td>\n",
       "</tr>\n",
       "<tr>\n",
       "  <th>daxi</th>      <td>   -0.0025</td> <td>    0.001</td> <td>   -2.387</td> <td> 0.017</td> <td>   -0.005</td> <td>   -0.000</td>\n",
       "</tr>\n",
       "<tr>\n",
       "  <th>nikkei</th>    <td>   -0.0004</td> <td>    0.000</td> <td>   -1.264</td> <td> 0.207</td> <td>   -0.001</td> <td>    0.000</td>\n",
       "</tr>\n",
       "<tr>\n",
       "  <th>hsi</th>       <td>    0.0003</td> <td>    0.000</td> <td>    1.222</td> <td> 0.222</td> <td>   -0.000</td> <td>    0.001</td>\n",
       "</tr>\n",
       "</table>\n",
       "<table class=\"simpletable\">\n",
       "<tr>\n",
       "  <th>Omnibus:</th>       <td>91.018</td> <th>  Durbin-Watson:     </th> <td>   2.015</td>\n",
       "</tr>\n",
       "<tr>\n",
       "  <th>Prob(Omnibus):</th> <td> 0.000</td> <th>  Jarque-Bera (JB):  </th> <td> 267.687</td>\n",
       "</tr>\n",
       "<tr>\n",
       "  <th>Skew:</th>          <td>-0.450</td> <th>  Prob(JB):          </th> <td>7.45e-59</td>\n",
       "</tr>\n",
       "<tr>\n",
       "  <th>Kurtosis:</th>      <td> 5.369</td> <th>  Cond. No.          </th> <td>    405.</td>\n",
       "</tr>\n",
       "</table><br/><br/>Warnings:<br/>[1] Standard Errors assume that the covariance matrix of the errors is correctly specified."
      ],
      "text/plain": [
       "<class 'statsmodels.iolib.summary.Summary'>\n",
       "\"\"\"\n",
       "                            OLS Regression Results                            \n",
       "==============================================================================\n",
       "Dep. Variable:                    spy   R-squared:                       0.067\n",
       "Model:                            OLS   Adj. R-squared:                  0.059\n",
       "Method:                 Least Squares   F-statistic:                     7.962\n",
       "Date:                Thu, 18 Apr 2019   Prob (F-statistic):           1.97e-11\n",
       "Time:                        20:10:45   Log-Likelihood:                -1617.7\n",
       "No. Observations:                1000   AIC:                             3255.\n",
       "Df Residuals:                     990   BIC:                             3305.\n",
       "Df Model:                           9                                         \n",
       "Covariance Type:            nonrobust                                         \n",
       "==============================================================================\n",
       "                 coef    std err          t      P>|t|      [0.025      0.975]\n",
       "------------------------------------------------------------------------------\n",
       "Intercept      0.0836      0.039      2.138      0.033       0.007       0.160\n",
       "spy_lag1      -0.1567      0.091     -1.730      0.084      -0.335       0.021\n",
       "sp500          0.0221      0.014      1.621      0.105      -0.005       0.049\n",
       "nasdaq         0.0040      0.004      1.066      0.287      -0.003       0.011\n",
       "dji           -0.0018      0.001     -1.248      0.212      -0.005       0.001\n",
       "cac40         -0.0003      0.002     -0.153      0.879      -0.004       0.004\n",
       "aord           0.0093      0.001      7.492      0.000       0.007       0.012\n",
       "daxi          -0.0025      0.001     -2.387      0.017      -0.005      -0.000\n",
       "nikkei        -0.0004      0.000     -1.264      0.207      -0.001       0.000\n",
       "hsi            0.0003      0.000      1.222      0.222      -0.000       0.001\n",
       "==============================================================================\n",
       "Omnibus:                       91.018   Durbin-Watson:                   2.015\n",
       "Prob(Omnibus):                  0.000   Jarque-Bera (JB):              267.687\n",
       "Skew:                          -0.450   Prob(JB):                     7.45e-59\n",
       "Kurtosis:                       5.369   Cond. No.                         405.\n",
       "==============================================================================\n",
       "\n",
       "Warnings:\n",
       "[1] Standard Errors assume that the covariance matrix of the errors is correctly specified.\n",
       "\"\"\""
      ]
     },
     "execution_count": 15,
     "metadata": {},
     "output_type": "execute_result"
    }
   ],
   "source": [
    "formula = 'spy~spy_lag1+sp500+nasdaq+dji+cac40+aord+daxi+nikkei+hsi'\n",
    "lm = smf.ols(formula=formula, data=Train).fit()\n",
    "lm.summary()"
   ]
  },
  {
   "cell_type": "markdown",
   "metadata": {},
   "source": [
    "### Step 5: Make Predictions"
   ]
  },
  {
   "cell_type": "code",
   "execution_count": 16,
   "metadata": {},
   "outputs": [],
   "source": [
    "Train['PredictedY'] = lm.predict(Train)\n",
    "Test['PredictedY'] = lm.predict(Test)"
   ]
  },
  {
   "cell_type": "code",
   "execution_count": 17,
   "metadata": {},
   "outputs": [
    {
     "data": {
      "text/plain": [
       "<matplotlib.collections.PathCollection at 0x1a195c92b0>"
      ]
     },
     "execution_count": 17,
     "metadata": {},
     "output_type": "execute_result"
    },
    {
     "data": {
      "image/png": "[encoded data removed]",
      "text/plain": [
       "<Figure size 432x288 with 1 Axes>"
      ]
     },
     "metadata": {},
     "output_type": "display_data"
    }
   ],
   "source": [
    "plt.scatter(Train['spy'], Train['PredictedY'])"
   ]
  },
  {
   "cell_type": "markdown",
   "metadata": {},
   "source": [
    "### Step 6: Model Evaluation - Statistical Standard"
   ]
  },
  {
   "cell_type": "markdown",
   "metadata": {},
   "source": [
    "We can measure the performance of our model using some statistical metrics - RMSE, Adjusted  R2"
   ]
  },
  {
   "cell_type": "code",
   "execution_count": 18,
   "metadata": {},
   "outputs": [],
   "source": [
    "# RMSE - Root Mean Squared Error, Adjusted R^2\n",
    "def adjustedMetric(data, model, model_k, yname):\n",
    "    data['yhat'] = model.predict(data)\n",
    "    SST = ((data[yname] - data[yname].mean())**2).sum()\n",
    "    SSR = ((data['yhat'] - data[yname].mean())**2).sum()\n",
    "    SSE = ((data[yname] - data['yhat'])**2).sum()\n",
    "    r2 = SSR/SST\n",
    "    adjustR2 = 1 - (1-r2)*(data.shape[0] - 1)/(data.shape[0] -model_k -1)\n",
    "    RMSE = (SSE/(data.shape[0] -model_k -1))**0.5\n",
    "    return adjustR2, RMSE"
   ]
  },
  {
   "cell_type": "code",
   "execution_count": 19,
   "metadata": {},
   "outputs": [],
   "source": [
    "def assessTable(test, train, model, model_k, yname):\n",
    "    r2test, RMSEtest = adjustedMetric(test, model, model_k, yname)\n",
    "    r2train, RMSEtrain = adjustedMetric(train, model, model_k, yname)\n",
    "    assessment = pd.DataFrame(index=['R2', 'RMSE'], columns=['Train', 'Test'])\n",
    "    assessment['Train'] = [r2train, RMSEtrain]\n",
    "    assessment['Test'] = [r2test, RMSEtest]\n",
    "    return assessment"
   ]
  },
  {
   "cell_type": "code",
   "execution_count": 20,
   "metadata": {},
   "outputs": [
    {
     "data": {
      "text/html": [
       "<div>\n",
       "<style scoped>\n",
       "    .dataframe tbody tr th:only-of-type {\n",
       "        vertical-align: middle;\n",
       "    }\n",
       "\n",
       "    .dataframe tbody tr th {\n",
       "        vertical-align: top;\n",
       "    }\n",
       "\n",
       "    .dataframe thead th {\n",
       "        text-align: right;\n",
       "    }\n",
       "</style>\n",
       "<table border=\"1\" class=\"dataframe\">\n",
       "  <thead>\n",
       "    <tr style=\"text-align: right;\">\n",
       "      <th></th>\n",
       "      <th>Train</th>\n",
       "      <th>Test</th>\n",
       "    </tr>\n",
       "  </thead>\n",
       "  <tbody>\n",
       "    <tr>\n",
       "      <th>R2</th>\n",
       "      <td>0.059020</td>\n",
       "      <td>0.067248</td>\n",
       "    </tr>\n",
       "    <tr>\n",
       "      <th>RMSE</th>\n",
       "      <td>1.226068</td>\n",
       "      <td>1.701291</td>\n",
       "    </tr>\n",
       "  </tbody>\n",
       "</table>\n",
       "</div>"
      ],
      "text/plain": [
       "         Train      Test\n",
       "R2    0.059020  0.067248\n",
       "RMSE  1.226068  1.701291"
      ]
     },
     "execution_count": 20,
     "metadata": {},
     "output_type": "execute_result"
    }
   ],
   "source": [
    "# Get the assement table fo our model\n",
    "assessTable(Test, Train, lm, 9, 'spy')"
   ]
  },
  {
   "cell_type": "markdown",
   "metadata": {},
   "source": [
    "## 13. Evaluating the Strategy built from Regression Model"
   ]
  },
  {
   "cell_type": "code",
   "execution_count": 21,
   "metadata": {},
   "outputs": [],
   "source": [
    "import warnings\n",
    "warnings.filterwarnings(\"ignore\")"
   ]
  },
  {
   "cell_type": "code",
   "execution_count": 22,
   "metadata": {},
   "outputs": [
    {
     "data": {
      "text/html": [
       "<div>\n",
       "<style scoped>\n",
       "    .dataframe tbody tr th:only-of-type {\n",
       "        vertical-align: middle;\n",
       "    }\n",
       "\n",
       "    .dataframe tbody tr th {\n",
       "        vertical-align: top;\n",
       "    }\n",
       "\n",
       "    .dataframe thead th {\n",
       "        text-align: right;\n",
       "    }\n",
       "</style>\n",
       "<table border=\"1\" class=\"dataframe\">\n",
       "  <thead>\n",
       "    <tr style=\"text-align: right;\">\n",
       "      <th></th>\n",
       "      <th>spy</th>\n",
       "      <th>spy_lag1</th>\n",
       "      <th>sp500</th>\n",
       "      <th>nasdaq</th>\n",
       "      <th>dji</th>\n",
       "      <th>cac40</th>\n",
       "      <th>daxi</th>\n",
       "      <th>aord</th>\n",
       "      <th>hsi</th>\n",
       "      <th>nikkei</th>\n",
       "      <th>Price</th>\n",
       "    </tr>\n",
       "    <tr>\n",
       "      <th>Date</th>\n",
       "      <th></th>\n",
       "      <th></th>\n",
       "      <th></th>\n",
       "      <th></th>\n",
       "      <th></th>\n",
       "      <th></th>\n",
       "      <th></th>\n",
       "      <th></th>\n",
       "      <th></th>\n",
       "      <th></th>\n",
       "      <th></th>\n",
       "    </tr>\n",
       "  </thead>\n",
       "  <tbody>\n",
       "    <tr>\n",
       "      <th>2008-01-04</th>\n",
       "      <td>-1.529998</td>\n",
       "      <td>-1.570008</td>\n",
       "      <td>-3.540039</td>\n",
       "      <td>-40.879883</td>\n",
       "      <td>2.43945</td>\n",
       "      <td>5.489746</td>\n",
       "      <td>-27.990235</td>\n",
       "      <td>-2.300293</td>\n",
       "      <td>515.349609</td>\n",
       "      <td>-464.320313</td>\n",
       "      <td>143.339996</td>\n",
       "    </tr>\n",
       "    <tr>\n",
       "      <th>2008-01-07</th>\n",
       "      <td>0.270004</td>\n",
       "      <td>-1.529998</td>\n",
       "      <td>-29.940064</td>\n",
       "      <td>-56.930176</td>\n",
       "      <td>-245.40918</td>\n",
       "      <td>-111.689941</td>\n",
       "      <td>-102.709961</td>\n",
       "      <td>-27.500000</td>\n",
       "      <td>216.951171</td>\n",
       "      <td>-48.830078</td>\n",
       "      <td>141.809998</td>\n",
       "    </tr>\n",
       "    <tr>\n",
       "      <th>2008-01-08</th>\n",
       "      <td>-2.990006</td>\n",
       "      <td>0.270004</td>\n",
       "      <td>1.640015</td>\n",
       "      <td>-7.179931</td>\n",
       "      <td>19.75000</td>\n",
       "      <td>44.509766</td>\n",
       "      <td>33.680176</td>\n",
       "      <td>-33.899902</td>\n",
       "      <td>-354.060547</td>\n",
       "      <td>99.370117</td>\n",
       "      <td>142.080002</td>\n",
       "    </tr>\n",
       "    <tr>\n",
       "      <th>2008-01-09</th>\n",
       "      <td>0.589997</td>\n",
       "      <td>-2.990006</td>\n",
       "      <td>-25.459961</td>\n",
       "      <td>-63.119873</td>\n",
       "      <td>-230.69043</td>\n",
       "      <td>-17.109864</td>\n",
       "      <td>-5.270020</td>\n",
       "      <td>-12.900390</td>\n",
       "      <td>768.359375</td>\n",
       "      <td>234.450195</td>\n",
       "      <td>139.089996</td>\n",
       "    </tr>\n",
       "    <tr>\n",
       "      <th>2008-01-10</th>\n",
       "      <td>1.100006</td>\n",
       "      <td>0.589997</td>\n",
       "      <td>16.530029</td>\n",
       "      <td>8.270019</td>\n",
       "      <td>142.90039</td>\n",
       "      <td>9.140137</td>\n",
       "      <td>-40.120117</td>\n",
       "      <td>-100.200196</td>\n",
       "      <td>-195.560547</td>\n",
       "      <td>-158.209961</td>\n",
       "      <td>139.679993</td>\n",
       "    </tr>\n",
       "  </tbody>\n",
       "</table>\n",
       "</div>"
      ],
      "text/plain": [
       "                 spy  spy_lag1      sp500     nasdaq        dji       cac40  \\\n",
       "Date                                                                          \n",
       "2008-01-04 -1.529998 -1.570008  -3.540039 -40.879883    2.43945    5.489746   \n",
       "2008-01-07  0.270004 -1.529998 -29.940064 -56.930176 -245.40918 -111.689941   \n",
       "2008-01-08 -2.990006  0.270004   1.640015  -7.179931   19.75000   44.509766   \n",
       "2008-01-09  0.589997 -2.990006 -25.459961 -63.119873 -230.69043  -17.109864   \n",
       "2008-01-10  1.100006  0.589997  16.530029   8.270019  142.90039    9.140137   \n",
       "\n",
       "                  daxi        aord         hsi      nikkei       Price  \n",
       "Date                                                                    \n",
       "2008-01-04  -27.990235   -2.300293  515.349609 -464.320313  143.339996  \n",
       "2008-01-07 -102.709961  -27.500000  216.951171  -48.830078  141.809998  \n",
       "2008-01-08   33.680176  -33.899902 -354.060547   99.370117  142.080002  \n",
       "2008-01-09   -5.270020  -12.900390  768.359375  234.450195  139.089996  \n",
       "2008-01-10  -40.120117 -100.200196 -195.560547 -158.209961  139.679993  "
      ]
     },
     "execution_count": 22,
     "metadata": {},
     "output_type": "execute_result"
    }
   ],
   "source": [
    "indicepanel = pd.DataFrame.from_csv('indicepanel.csv')\n",
    "indicepanel.head()"
   ]
  },
  {
   "cell_type": "code",
   "execution_count": 23,
   "metadata": {},
   "outputs": [],
   "source": [
    "Train = indicepanel.iloc[-2000:-1000, :]\n",
    "Test = indicepanel.iloc[-1000:, :]"
   ]
  },
  {
   "cell_type": "code",
   "execution_count": 24,
   "metadata": {},
   "outputs": [],
   "source": [
    "formula = 'spy~spy_lag1+sp500+nasdaq+dji+cac40+aord+daxi+nikkei+hsi'\n",
    "lm = smf.ols(formula=formula, data=Train).fit()"
   ]
  },
  {
   "cell_type": "code",
   "execution_count": 25,
   "metadata": {},
   "outputs": [],
   "source": [
    "Train['PredictedY'] = lm.predict(Train)\n",
    "Test['PredictedY'] = lm.predict(Test)"
   ]
  },
  {
   "cell_type": "markdown",
   "metadata": {},
   "source": [
    "### Profit of Signal-based Strategy"
   ]
  },
  {
   "cell_type": "code",
   "execution_count": 26,
   "metadata": {},
   "outputs": [
    {
     "name": "stdout",
     "output_type": "stream",
     "text": [
      "Total profit made in Train:  214.34009500000042\n"
     ]
    }
   ],
   "source": [
    "# Train\n",
    "Train['Order'] = [1 if sig>0 else -1 for sig in Train['PredictedY']]\n",
    "Train['Profit'] = Train['spy'] * Train['Order']\n",
    "\n",
    "Train['Wealth'] = Train['Profit'].cumsum()\n",
    "print('Total profit made in Train: ', Train['Profit'].sum())"
   ]
  },
  {
   "cell_type": "code",
   "execution_count": 27,
   "metadata": {},
   "outputs": [
    {
     "data": {
      "image/png": "[encoded data removed]",
      "text/plain": [
       "<Figure size 720x720 with 1 Axes>"
      ]
     },
     "metadata": {},
     "output_type": "display_data"
    }
   ],
   "source": [
    "plt.figure(figsize=(10, 10))\n",
    "plt.title('Performance of Strategy in Train')\n",
    "plt.plot(Train['Wealth'].values, color='green', label='Signal based strategy')\n",
    "plt.plot(Train['spy'].cumsum().values, color='red', label='Buy and Hold strategy')\n",
    "plt.legend()\n",
    "plt.show()"
   ]
  },
  {
   "cell_type": "code",
   "execution_count": 28,
   "metadata": {},
   "outputs": [
    {
     "name": "stdout",
     "output_type": "stream",
     "text": [
      "Total profit made in Test:  241.0300879999996\n"
     ]
    }
   ],
   "source": [
    "# Test\n",
    "Test['Order'] = [1 if sig>0 else -1 for sig in Test['PredictedY']]\n",
    "Test['Profit'] = Test['spy'] * Test['Order']\n",
    "\n",
    "Test['Wealth'] = Test['Profit'].cumsum()\n",
    "print('Total profit made in Test: ', Test['Profit'].sum())"
   ]
  },
  {
   "cell_type": "code",
   "execution_count": 29,
   "metadata": {
    "scrolled": true
   },
   "outputs": [
    {
     "data": {
      "image/png": "[encoded data removed]",
      "text/plain": [
       "<Figure size 720x720 with 1 Axes>"
      ]
     },
     "metadata": {},
     "output_type": "display_data"
    }
   ],
   "source": [
    "plt.figure(figsize=(10, 10))\n",
    "plt.title('Performance of Strategy in Train')\n",
    "plt.plot(Test['Wealth'].values, color='green', label='Signal based strategy')\n",
    "plt.plot(Test['spy'].cumsum().values, color='red', label='Buy and Hold strategy')\n",
    "plt.legend()\n",
    "plt.show()"
   ]
  },
  {
   "cell_type": "markdown",
   "metadata": {},
   "source": [
    "## 14. Evaluation of Model - Practical Standards"
   ]
  },
  {
   "cell_type": "markdown",
   "metadata": {},
   "source": [
    "#### introduce two common practical standards - Sharpe Ratio, Maximum Drawdown to evaluate our model performance\n",
    "\n",
    "Sharpe Ratio: a measure that indicates the average return minus the risk-free return divided by the standard deviation of return on an investment. \n",
    "\n",
    "- The risk adjusted return. The greater a portfolio's Sharpe ratio, the better its risk-adjusted performance.\n",
    "\n",
    "Maximum drawdown: the maximum loss from a peak to a trough of a portfolio, before a new peak is attained. Maximum Drawdown (MDD) is an indicator of downside risk over a specified time period.\n",
    "\n",
    "- A low maximum drawdown is preferred as this indicates that losses from investment were small."
   ]
  },
  {
   "cell_type": "code",
   "execution_count": 30,
   "metadata": {},
   "outputs": [],
   "source": [
    "Train['Wealth'] = Train['Wealth'] + Train.loc[Train.index[0], 'Price']\n",
    "Test['Wealth'] = Test['Wealth'] + Test.loc[Test.index[0], 'Price']"
   ]
  },
  {
   "cell_type": "code",
   "execution_count": 31,
   "metadata": {},
   "outputs": [
    {
     "name": "stdout",
     "output_type": "stream",
     "text": [
      "Daily Sharpe Ratio is  0.179650763032581\n",
      "Yearly Sharpe Ratio is  2.851867450963232\n"
     ]
    }
   ],
   "source": [
    "# Sharpe Ratio on Train data\n",
    "Train['Return'] = np.log(Train['Wealth']) - np.log(Train['Wealth'].shift(1))\n",
    "dailyr = Train['Return'].dropna()\n",
    "\n",
    "print('Daily Sharpe Ratio is ', dailyr.mean()/dailyr.std(ddof=1))\n",
    "print('Yearly Sharpe Ratio is ', (252**0.5)*dailyr.mean()/dailyr.std(ddof=1))"
   ]
  },
  {
   "cell_type": "code",
   "execution_count": 32,
   "metadata": {},
   "outputs": [
    {
     "name": "stdout",
     "output_type": "stream",
     "text": [
      "Daily Sharpe Ratio is  0.13035126208575035\n",
      "Yearly Sharpe Ratio is  2.0692621353737883\n"
     ]
    }
   ],
   "source": [
    "# Sharpe Ratio in Test data\n",
    "Test['Return'] = np.log(Test['Wealth']) - np.log(Test['Wealth'].shift(1))\n",
    "dailyr = Test['Return'].dropna()\n",
    "\n",
    "print('Daily Sharpe Ratio is ', dailyr.mean()/dailyr.std(ddof=1))\n",
    "print('Yearly Sharpe Ratio is ', (252**0.5)*dailyr.mean()/dailyr.std(ddof=1))"
   ]
  },
  {
   "cell_type": "code",
   "execution_count": 33,
   "metadata": {},
   "outputs": [
    {
     "name": "stdout",
     "output_type": "stream",
     "text": [
      "Maximum Drawdown in Train is  0.06069016443644382\n"
     ]
    }
   ],
   "source": [
    "# Maximum Drawdown in Train data\n",
    "Train['Peak'] = Train['Wealth'].cummax()\n",
    "Train['Drawdown'] = (Train['Peak'] - Train['Wealth'])/Train['Peak']\n",
    "print('Maximum Drawdown in Train is ', Train['Drawdown'].max())"
   ]
  },
  {
   "cell_type": "code",
   "execution_count": 34,
   "metadata": {},
   "outputs": [
    {
     "name": "stdout",
     "output_type": "stream",
     "text": [
      "Maximum Drawdown in Test is  0.11719899524631659\n"
     ]
    }
   ],
   "source": [
    "# Maximum Drawdown in Test data\n",
    "Test['Peak'] = Test['Wealth'].cummax()\n",
    "Test['Drawdown'] = (Test['Peak'] - Test['Wealth'])/Test['Peak']\n",
    "print('Maximum Drawdown in Test is ', Test['Drawdown'].max())"
   ]
  },
  {
   "cell_type": "code",
   "execution_count": null,
   "metadata": {},
   "outputs": [],
   "source": []
  }
 ],
 "metadata": {
  "kernelspec": {
   "display_name": "Python 3",
   "language": "python",
   "name": "python3"
  },
  "language_info": {
   "codemirror_mode": {
    "name": "ipython",
    "version": 3
   },
   "file_extension": ".py",
   "mimetype": "text/x-python",
   "name": "python",
   "nbconvert_exporter": "python",
   "pygments_lexer": "ipython3",
   "version": "3.7.3"
  }
 },
 "nbformat": 4,
 "nbformat_minor": 2
}
